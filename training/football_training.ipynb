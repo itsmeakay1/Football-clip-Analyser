{
 "cells": [
  {
   "cell_type": "code",
   "execution_count": 1,
   "metadata": {},
   "outputs": [
    {
     "name": "stdout",
     "output_type": "stream",
     "text": [
      "Collecting roboflow\n",
      "  Downloading roboflow-1.1.34-py3-none-any.whl.metadata (9.5 kB)\n",
      "Requirement already satisfied: certifi in /Users/ujjwaltiwari/Desktop/projects/Football Video analyser/videoenv/lib/python3.9/site-packages (from roboflow) (2024.7.4)\n",
      "Collecting chardet==4.0.0 (from roboflow)\n",
      "  Downloading chardet-4.0.0-py2.py3-none-any.whl.metadata (3.5 kB)\n",
      "Requirement already satisfied: idna==3.7 in /Users/ujjwaltiwari/Desktop/projects/Football Video analyser/videoenv/lib/python3.9/site-packages (from roboflow) (3.7)\n",
      "Requirement already satisfied: cycler in /Users/ujjwaltiwari/Desktop/projects/Football Video analyser/videoenv/lib/python3.9/site-packages (from roboflow) (0.12.1)\n",
      "Requirement already satisfied: kiwisolver>=1.3.1 in /Users/ujjwaltiwari/Desktop/projects/Football Video analyser/videoenv/lib/python3.9/site-packages (from roboflow) (1.4.5)\n",
      "Requirement already satisfied: matplotlib in /Users/ujjwaltiwari/Desktop/projects/Football Video analyser/videoenv/lib/python3.9/site-packages (from roboflow) (3.9.1)\n",
      "Requirement already satisfied: numpy>=1.18.5 in /Users/ujjwaltiwari/Desktop/projects/Football Video analyser/videoenv/lib/python3.9/site-packages (from roboflow) (1.26.4)\n",
      "Requirement already satisfied: opencv-python-headless==4.10.0.84 in /Users/ujjwaltiwari/Desktop/projects/Football Video analyser/videoenv/lib/python3.9/site-packages (from roboflow) (4.10.0.84)\n",
      "Requirement already satisfied: Pillow>=7.1.2 in /Users/ujjwaltiwari/Desktop/projects/Football Video analyser/videoenv/lib/python3.9/site-packages (from roboflow) (10.4.0)\n",
      "Requirement already satisfied: python-dateutil in /Users/ujjwaltiwari/Desktop/projects/Football Video analyser/videoenv/lib/python3.9/site-packages (from roboflow) (2.9.0.post0)\n",
      "Collecting python-dotenv (from roboflow)\n",
      "  Using cached python_dotenv-1.0.1-py3-none-any.whl.metadata (23 kB)\n",
      "Requirement already satisfied: requests in /Users/ujjwaltiwari/Desktop/projects/Football Video analyser/videoenv/lib/python3.9/site-packages (from roboflow) (2.32.3)\n",
      "Requirement already satisfied: six in /Users/ujjwaltiwari/Desktop/projects/Football Video analyser/videoenv/lib/python3.9/site-packages (from roboflow) (1.16.0)\n",
      "Requirement already satisfied: urllib3>=1.26.6 in /Users/ujjwaltiwari/Desktop/projects/Football Video analyser/videoenv/lib/python3.9/site-packages (from roboflow) (2.2.2)\n",
      "Requirement already satisfied: tqdm>=4.41.0 in /Users/ujjwaltiwari/Desktop/projects/Football Video analyser/videoenv/lib/python3.9/site-packages (from roboflow) (4.66.4)\n",
      "Requirement already satisfied: PyYAML>=5.3.1 in /Users/ujjwaltiwari/Desktop/projects/Football Video analyser/videoenv/lib/python3.9/site-packages (from roboflow) (6.0.1)\n",
      "Collecting requests-toolbelt (from roboflow)\n",
      "  Using cached requests_toolbelt-1.0.0-py2.py3-none-any.whl.metadata (14 kB)\n",
      "Collecting python-magic (from roboflow)\n",
      "  Downloading python_magic-0.4.27-py2.py3-none-any.whl.metadata (5.8 kB)\n",
      "Requirement already satisfied: contourpy>=1.0.1 in /Users/ujjwaltiwari/Desktop/projects/Football Video analyser/videoenv/lib/python3.9/site-packages (from matplotlib->roboflow) (1.2.1)\n",
      "Requirement already satisfied: fonttools>=4.22.0 in /Users/ujjwaltiwari/Desktop/projects/Football Video analyser/videoenv/lib/python3.9/site-packages (from matplotlib->roboflow) (4.53.1)\n",
      "Requirement already satisfied: packaging>=20.0 in /Users/ujjwaltiwari/Desktop/projects/Football Video analyser/videoenv/lib/python3.9/site-packages (from matplotlib->roboflow) (24.1)\n",
      "Requirement already satisfied: pyparsing>=2.3.1 in /Users/ujjwaltiwari/Desktop/projects/Football Video analyser/videoenv/lib/python3.9/site-packages (from matplotlib->roboflow) (3.1.2)\n",
      "Requirement already satisfied: importlib-resources>=3.2.0 in /Users/ujjwaltiwari/Desktop/projects/Football Video analyser/videoenv/lib/python3.9/site-packages (from matplotlib->roboflow) (6.4.0)\n",
      "Requirement already satisfied: charset-normalizer<4,>=2 in /Users/ujjwaltiwari/Desktop/projects/Football Video analyser/videoenv/lib/python3.9/site-packages (from requests->roboflow) (3.3.2)\n",
      "Requirement already satisfied: zipp>=3.1.0 in /Users/ujjwaltiwari/Desktop/projects/Football Video analyser/videoenv/lib/python3.9/site-packages (from importlib-resources>=3.2.0->matplotlib->roboflow) (3.19.2)\n",
      "Downloading roboflow-1.1.34-py3-none-any.whl (76 kB)\n",
      "\u001b[2K   \u001b[90m━━━━━━━━━━━━━━━━━━━━━━━━━━━━━━━━━━━━━━━━\u001b[0m \u001b[32m76.2/76.2 kB\u001b[0m \u001b[31m1.6 MB/s\u001b[0m eta \u001b[36m0:00:00\u001b[0ma \u001b[36m0:00:01\u001b[0m\n",
      "\u001b[?25hDownloading chardet-4.0.0-py2.py3-none-any.whl (178 kB)\n",
      "\u001b[2K   \u001b[90m━━━━━━━━━━━━━━━━━━━━━━━━━━━━━━━━━━━━━━━━\u001b[0m \u001b[32m178.7/178.7 kB\u001b[0m \u001b[31m2.3 MB/s\u001b[0m eta \u001b[36m0:00:00\u001b[0ma \u001b[36m0:00:01\u001b[0m\n",
      "\u001b[?25hUsing cached python_dotenv-1.0.1-py3-none-any.whl (19 kB)\n",
      "Downloading python_magic-0.4.27-py2.py3-none-any.whl (13 kB)\n",
      "Using cached requests_toolbelt-1.0.0-py2.py3-none-any.whl (54 kB)\n",
      "Installing collected packages: python-magic, python-dotenv, chardet, requests-toolbelt, roboflow\n",
      "Successfully installed chardet-4.0.0 python-dotenv-1.0.1 python-magic-0.4.27 requests-toolbelt-1.0.0 roboflow-1.1.34\n"
     ]
    }
   ],
   "source": [
    "!pip install roboflow"
   ]
  },
  {
   "cell_type": "markdown",
   "metadata": {},
   "source": [
    "## Getting the Dataset"
   ]
  },
  {
   "cell_type": "code",
   "execution_count": 4,
   "metadata": {},
   "outputs": [
    {
     "name": "stdout",
     "output_type": "stream",
     "text": [
      "loading Roboflow workspace...\n",
      "loading Roboflow project...\n"
     ]
    },
    {
     "name": "stderr",
     "output_type": "stream",
     "text": [
      "Downloading Dataset Version Zip in football-players-detection-2 to yolov8:: 100%|██████████| 116758/116758 [00:36<00:00, 3224.84it/s] "
     ]
    },
    {
     "name": "stdout",
     "output_type": "stream",
     "text": [
      "\n"
     ]
    },
    {
     "name": "stderr",
     "output_type": "stream",
     "text": [
      "\n",
      "Extracting Dataset Version Zip to football-players-detection-2 in yolov8:: 100%|██████████| 1338/1338 [00:00<00:00, 4860.57it/s]\n"
     ]
    }
   ],
   "source": [
    "from roboflow import Roboflow\n",
    "rf = Roboflow(api_key=\"2O85ieVnRcEvZ3yDZlN3\")\n",
    "project = rf.workspace(\"roboflow-jvuqo\").project(\"football-players-detection-3zvbc\")\n",
    "version = project.version(2)\n",
    "dataset = version.download(\"yolov8\")\n"
   ]
  },
  {
   "cell_type": "code",
   "execution_count": 2,
   "metadata": {},
   "outputs": [
    {
     "data": {
      "text/plain": [
       "'/Users/ujjwaltiwari/Desktop/projects/Football Video analyser/training/football-players-detection-2'"
      ]
     },
     "execution_count": 2,
     "metadata": {},
     "output_type": "execute_result"
    }
   ],
   "source": [
    "dataset.location"
   ]
  },
  {
   "cell_type": "code",
   "execution_count": 12,
   "metadata": {},
   "outputs": [
    {
     "data": {
      "text/plain": [
       "'football-players-detection-2/football-players-detection-2/valid'"
      ]
     },
     "execution_count": 12,
     "metadata": {},
     "output_type": "execute_result"
    }
   ],
   "source": [
    "import shutil\n",
    "\n",
    "shutil.move('football-players-detection-2/train',\n",
    "            'football-players-detection-2/football-players-detection-2/train')\n",
    "\n",
    "shutil.move('football-players-detection-2/test',\n",
    "            'football-players-detection-2/football-players-detection-2/test')\n",
    "\n",
    "shutil.move('football-players-detection-2/valid',\n",
    "            'football-players-detection-2/football-players-detection-2/valid')"
   ]
  },
  {
   "cell_type": "code",
   "execution_count": null,
   "metadata": {},
   "outputs": [],
   "source": [
    "!yolo task=detect mode=train model=yolov8x.pt data= {dataset.location}/data.yaml epochs=100 imgsz=640 device="
   ]
  }
 ],
 "metadata": {
  "kernelspec": {
   "display_name": "Python 3",
   "language": "python",
   "name": "python3"
  },
  "language_info": {
   "codemirror_mode": {
    "name": "ipython",
    "version": 3
   },
   "file_extension": ".py",
   "mimetype": "text/x-python",
   "name": "python",
   "nbconvert_exporter": "python",
   "pygments_lexer": "ipython3",
   "version": "3.9.19"
  },
  "orig_nbformat": 4
 },
 "nbformat": 4,
 "nbformat_minor": 2
}
